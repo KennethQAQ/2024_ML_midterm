{
 "cells": [
  {
   "cell_type": "code",
   "execution_count": 13,
   "metadata": {},
   "outputs": [],
   "source": [
    "import pandas as pd\n",
    "import numpy as np\n",
    "import tensorflow as tf\n",
    "from keras.models import Sequential\n",
    "from keras.layers import Dense\n",
    "from sklearn.tree import DecisionTreeClassifier\n",
    "from sklearn.model_selection import train_test_split, GridSearchCV"
   ]
  },
  {
   "cell_type": "code",
   "execution_count": 2,
   "metadata": {},
   "outputs": [
    {
     "data": {
      "text/html": [
       "<div>\n",
       "<style scoped>\n",
       "    .dataframe tbody tr th:only-of-type {\n",
       "        vertical-align: middle;\n",
       "    }\n",
       "\n",
       "    .dataframe tbody tr th {\n",
       "        vertical-align: top;\n",
       "    }\n",
       "\n",
       "    .dataframe thead th {\n",
       "        text-align: right;\n",
       "    }\n",
       "</style>\n",
       "<table border=\"1\" class=\"dataframe\">\n",
       "  <thead>\n",
       "    <tr style=\"text-align: right;\">\n",
       "      <th></th>\n",
       "      <th>gameId</th>\n",
       "      <th>blueWins</th>\n",
       "      <th>blueWardsPlaced</th>\n",
       "      <th>blueWardsDestroyed</th>\n",
       "      <th>blueFirstBlood</th>\n",
       "      <th>blueKills</th>\n",
       "      <th>blueDeaths</th>\n",
       "      <th>blueAssists</th>\n",
       "      <th>blueEliteMonsters</th>\n",
       "      <th>blueDragons</th>\n",
       "      <th>...</th>\n",
       "      <th>redTowersDestroyed</th>\n",
       "      <th>redTotalGold</th>\n",
       "      <th>redAvgLevel</th>\n",
       "      <th>redTotalExperience</th>\n",
       "      <th>redTotalMinionsKilled</th>\n",
       "      <th>redTotalJungleMinionsKilled</th>\n",
       "      <th>redGoldDiff</th>\n",
       "      <th>redExperienceDiff</th>\n",
       "      <th>redCSPerMin</th>\n",
       "      <th>redGoldPerMin</th>\n",
       "    </tr>\n",
       "  </thead>\n",
       "  <tbody>\n",
       "    <tr>\n",
       "      <th>0</th>\n",
       "      <td>4519157822</td>\n",
       "      <td>0</td>\n",
       "      <td>28</td>\n",
       "      <td>2</td>\n",
       "      <td>1</td>\n",
       "      <td>9</td>\n",
       "      <td>6</td>\n",
       "      <td>11</td>\n",
       "      <td>0</td>\n",
       "      <td>0</td>\n",
       "      <td>...</td>\n",
       "      <td>0</td>\n",
       "      <td>16567</td>\n",
       "      <td>6.8</td>\n",
       "      <td>17047</td>\n",
       "      <td>197</td>\n",
       "      <td>55</td>\n",
       "      <td>-643</td>\n",
       "      <td>8</td>\n",
       "      <td>19.7</td>\n",
       "      <td>1656.7</td>\n",
       "    </tr>\n",
       "    <tr>\n",
       "      <th>1</th>\n",
       "      <td>4523371949</td>\n",
       "      <td>0</td>\n",
       "      <td>12</td>\n",
       "      <td>1</td>\n",
       "      <td>0</td>\n",
       "      <td>5</td>\n",
       "      <td>5</td>\n",
       "      <td>5</td>\n",
       "      <td>0</td>\n",
       "      <td>0</td>\n",
       "      <td>...</td>\n",
       "      <td>1</td>\n",
       "      <td>17620</td>\n",
       "      <td>6.8</td>\n",
       "      <td>17438</td>\n",
       "      <td>240</td>\n",
       "      <td>52</td>\n",
       "      <td>2908</td>\n",
       "      <td>1173</td>\n",
       "      <td>24.0</td>\n",
       "      <td>1762.0</td>\n",
       "    </tr>\n",
       "    <tr>\n",
       "      <th>2</th>\n",
       "      <td>4521474530</td>\n",
       "      <td>0</td>\n",
       "      <td>15</td>\n",
       "      <td>0</td>\n",
       "      <td>0</td>\n",
       "      <td>7</td>\n",
       "      <td>11</td>\n",
       "      <td>4</td>\n",
       "      <td>1</td>\n",
       "      <td>1</td>\n",
       "      <td>...</td>\n",
       "      <td>0</td>\n",
       "      <td>17285</td>\n",
       "      <td>6.8</td>\n",
       "      <td>17254</td>\n",
       "      <td>203</td>\n",
       "      <td>28</td>\n",
       "      <td>1172</td>\n",
       "      <td>1033</td>\n",
       "      <td>20.3</td>\n",
       "      <td>1728.5</td>\n",
       "    </tr>\n",
       "    <tr>\n",
       "      <th>3</th>\n",
       "      <td>4524384067</td>\n",
       "      <td>0</td>\n",
       "      <td>43</td>\n",
       "      <td>1</td>\n",
       "      <td>0</td>\n",
       "      <td>4</td>\n",
       "      <td>5</td>\n",
       "      <td>5</td>\n",
       "      <td>1</td>\n",
       "      <td>0</td>\n",
       "      <td>...</td>\n",
       "      <td>0</td>\n",
       "      <td>16478</td>\n",
       "      <td>7.0</td>\n",
       "      <td>17961</td>\n",
       "      <td>235</td>\n",
       "      <td>47</td>\n",
       "      <td>1321</td>\n",
       "      <td>7</td>\n",
       "      <td>23.5</td>\n",
       "      <td>1647.8</td>\n",
       "    </tr>\n",
       "    <tr>\n",
       "      <th>4</th>\n",
       "      <td>4436033771</td>\n",
       "      <td>0</td>\n",
       "      <td>75</td>\n",
       "      <td>4</td>\n",
       "      <td>0</td>\n",
       "      <td>6</td>\n",
       "      <td>6</td>\n",
       "      <td>6</td>\n",
       "      <td>0</td>\n",
       "      <td>0</td>\n",
       "      <td>...</td>\n",
       "      <td>0</td>\n",
       "      <td>17404</td>\n",
       "      <td>7.0</td>\n",
       "      <td>18313</td>\n",
       "      <td>225</td>\n",
       "      <td>67</td>\n",
       "      <td>1004</td>\n",
       "      <td>-230</td>\n",
       "      <td>22.5</td>\n",
       "      <td>1740.4</td>\n",
       "    </tr>\n",
       "  </tbody>\n",
       "</table>\n",
       "<p>5 rows × 40 columns</p>\n",
       "</div>"
      ],
      "text/plain": [
       "       gameId  blueWins  blueWardsPlaced  blueWardsDestroyed  blueFirstBlood  \\\n",
       "0  4519157822         0               28                   2               1   \n",
       "1  4523371949         0               12                   1               0   \n",
       "2  4521474530         0               15                   0               0   \n",
       "3  4524384067         0               43                   1               0   \n",
       "4  4436033771         0               75                   4               0   \n",
       "\n",
       "   blueKills  blueDeaths  blueAssists  blueEliteMonsters  blueDragons  ...  \\\n",
       "0          9           6           11                  0            0  ...   \n",
       "1          5           5            5                  0            0  ...   \n",
       "2          7          11            4                  1            1  ...   \n",
       "3          4           5            5                  1            0  ...   \n",
       "4          6           6            6                  0            0  ...   \n",
       "\n",
       "   redTowersDestroyed  redTotalGold  redAvgLevel  redTotalExperience  \\\n",
       "0                   0         16567          6.8               17047   \n",
       "1                   1         17620          6.8               17438   \n",
       "2                   0         17285          6.8               17254   \n",
       "3                   0         16478          7.0               17961   \n",
       "4                   0         17404          7.0               18313   \n",
       "\n",
       "   redTotalMinionsKilled  redTotalJungleMinionsKilled  redGoldDiff  \\\n",
       "0                    197                           55         -643   \n",
       "1                    240                           52         2908   \n",
       "2                    203                           28         1172   \n",
       "3                    235                           47         1321   \n",
       "4                    225                           67         1004   \n",
       "\n",
       "   redExperienceDiff  redCSPerMin  redGoldPerMin  \n",
       "0                  8         19.7         1656.7  \n",
       "1               1173         24.0         1762.0  \n",
       "2               1033         20.3         1728.5  \n",
       "3                  7         23.5         1647.8  \n",
       "4               -230         22.5         1740.4  \n",
       "\n",
       "[5 rows x 40 columns]"
      ]
     },
     "execution_count": 2,
     "metadata": {},
     "output_type": "execute_result"
    }
   ],
   "source": [
    "# load data\n",
    "game_data = pd.read_csv(\"data.csv\").dropna()\n",
    "game_data.head()"
   ]
  },
  {
   "cell_type": "code",
   "execution_count": 3,
   "metadata": {},
   "outputs": [
    {
     "data": {
      "text/plain": [
       "Index(['gameId', 'blueWins', 'blueWardsPlaced', 'blueWardsDestroyed',\n",
       "       'blueFirstBlood', 'blueKills', 'blueDeaths', 'blueAssists',\n",
       "       'blueEliteMonsters', 'blueDragons', 'blueHeralds',\n",
       "       'blueTowersDestroyed', 'blueTotalGold', 'blueAvgLevel',\n",
       "       'blueTotalExperience', 'blueTotalMinionsKilled',\n",
       "       'blueTotalJungleMinionsKilled', 'blueGoldDiff', 'blueExperienceDiff',\n",
       "       'blueCSPerMin', 'blueGoldPerMin', 'redWardsPlaced', 'redWardsDestroyed',\n",
       "       'redFirstBlood', 'redKills', 'redDeaths', 'redAssists',\n",
       "       'redEliteMonsters', 'redDragons', 'redHeralds', 'redTowersDestroyed',\n",
       "       'redTotalGold', 'redAvgLevel', 'redTotalExperience',\n",
       "       'redTotalMinionsKilled', 'redTotalJungleMinionsKilled', 'redGoldDiff',\n",
       "       'redExperienceDiff', 'redCSPerMin', 'redGoldPerMin'],\n",
       "      dtype='object')"
      ]
     },
     "execution_count": 3,
     "metadata": {},
     "output_type": "execute_result"
    }
   ],
   "source": [
    "# check the basic columns in the data\n",
    "game_data.columns"
   ]
  },
  {
   "cell_type": "code",
   "execution_count": 4,
   "metadata": {},
   "outputs": [
    {
     "data": {
      "text/plain": [
       "blueWins                        1.000000\n",
       "blueGoldDiff                    0.511119\n",
       "blueExperienceDiff              0.489558\n",
       "blueTotalGold                   0.417213\n",
       "blueGoldPerMin                  0.417213\n",
       "blueTotalExperience             0.396141\n",
       "blueAvgLevel                    0.357820\n",
       "blueKills                       0.337358\n",
       "redDeaths                       0.337358\n",
       "blueAssists                     0.276685\n",
       "blueCSPerMin                    0.224909\n",
       "blueTotalMinionsKilled          0.224909\n",
       "blueEliteMonsters               0.221944\n",
       "blueDragons                     0.213768\n",
       "blueFirstBlood                  0.201769\n",
       "blueTotalJungleMinionsKilled    0.131445\n",
       "blueTowersDestroyed             0.115566\n",
       "blueHeralds                     0.092385\n",
       "blueWardsDestroyed              0.044247\n",
       "gameId                          0.000985\n",
       "blueWardsPlaced                 0.000087\n",
       "redWardsPlaced                 -0.023671\n",
       "redWardsDestroyed              -0.055400\n",
       "redHeralds                     -0.097172\n",
       "redTowersDestroyed             -0.103696\n",
       "redTotalJungleMinionsKilled    -0.110994\n",
       "redFirstBlood                  -0.201769\n",
       "redDragons                     -0.209516\n",
       "redCSPerMin                    -0.212171\n",
       "redTotalMinionsKilled          -0.212171\n",
       "redEliteMonsters               -0.221551\n",
       "redAssists                     -0.271047\n",
       "blueDeaths                     -0.339297\n",
       "redKills                       -0.339297\n",
       "redAvgLevel                    -0.352127\n",
       "redTotalExperience             -0.387588\n",
       "redGoldPerMin                  -0.411396\n",
       "redTotalGold                   -0.411396\n",
       "redExperienceDiff              -0.489558\n",
       "redGoldDiff                    -0.511119\n",
       "Name: blueWins, dtype: float64"
      ]
     },
     "execution_count": 4,
     "metadata": {},
     "output_type": "execute_result"
    }
   ],
   "source": [
    "# check the correlation between bluewins(target) to other single columns and pick out the features we need\n",
    "corr = game_data.corr()\n",
    "corr['blueWins'].sort_values(ascending=False)"
   ]
  },
  {
   "cell_type": "code",
   "execution_count": 5,
   "metadata": {},
   "outputs": [],
   "source": [
    "# create some new features\n",
    "game_data['blueKillsDiff'] = game_data['blueKills'] - game_data['redKills']\n",
    "game_data['blueLevelDiff'] = game_data['blueAvgLevel'] - game_data['redAvgLevel']"
   ]
  },
  {
   "cell_type": "code",
   "execution_count": 6,
   "metadata": {},
   "outputs": [],
   "source": [
    "# final selected features, in the future work we may change it to some better ones\n",
    "selected = ['blueGoldDiff',\n",
    "            'blueExperienceDiff',\n",
    "            'blueTotalGold',\n",
    "            'blueGoldPerMin',\n",
    "            'blueTotalExperience',\n",
    "            'blueKillsDiff',\n",
    "            'blueLevelDiff',\n",
    "            'blueAssists',\n",
    "            'redTotalGold',\n",
    "            'redGoldPerMin',\n",
    "            'redTotalExperience']\n",
    "\n",
    "# Split train and test datasets\n",
    "X = game_data[selected]\n",
    "y = game_data['blueWins']\n",
    "X_train, X_test, y_train, y_test = train_test_split(X, y, test_size=0.2)"
   ]
  },
  {
   "cell_type": "code",
   "execution_count": 10,
   "metadata": {},
   "outputs": [],
   "source": [
    "# set up sequential neural network model\n",
    "network = Sequential()\n",
    "network.add(Dense(8, activation = 'relu', input_shape = (11, )))\n",
    "network.add(Dense(16, activation = 'relu'))\n",
    "network.add(Dense(1, activation = 'sigmoid'))\n",
    "network.compile(optimizer='adam', loss='binary_crossentropy', metrics=['accuracy'])"
   ]
  },
  {
   "cell_type": "code",
   "execution_count": 11,
   "metadata": {},
   "outputs": [
    {
     "name": "stdout",
     "output_type": "stream",
     "text": [
      "Epoch 1/30\n",
      "124/124 [==============================] - 1s 1ms/step - loss: 237.5921 - accuracy: 0.6480\n",
      "Epoch 2/30\n",
      "124/124 [==============================] - 0s 1ms/step - loss: 2.8706 - accuracy: 0.6433\n",
      "Epoch 3/30\n",
      "124/124 [==============================] - 0s 1ms/step - loss: 1.5450 - accuracy: 0.6381\n",
      "Epoch 4/30\n",
      "124/124 [==============================] - 0s 1ms/step - loss: 1.3506 - accuracy: 0.6429\n",
      "Epoch 5/30\n",
      "124/124 [==============================] - 0s 1ms/step - loss: 1.1151 - accuracy: 0.6495\n",
      "Epoch 6/30\n",
      "124/124 [==============================] - 0s 1ms/step - loss: 1.1608 - accuracy: 0.6417\n",
      "Epoch 7/30\n",
      "124/124 [==============================] - 0s 1ms/step - loss: 0.9325 - accuracy: 0.6533\n",
      "Epoch 8/30\n",
      "124/124 [==============================] - 0s 1ms/step - loss: 1.0703 - accuracy: 0.6684\n",
      "Epoch 9/30\n",
      "124/124 [==============================] - 0s 1ms/step - loss: 0.7388 - accuracy: 0.6662\n",
      "Epoch 10/30\n",
      "124/124 [==============================] - 0s 1ms/step - loss: 0.8788 - accuracy: 0.6544\n",
      "Epoch 11/30\n",
      "124/124 [==============================] - 0s 1ms/step - loss: 1.0727 - accuracy: 0.6494\n",
      "Epoch 12/30\n",
      "124/124 [==============================] - 0s 1ms/step - loss: 1.2203 - accuracy: 0.6501\n",
      "Epoch 13/30\n",
      "124/124 [==============================] - 0s 1ms/step - loss: 1.0849 - accuracy: 0.6547\n",
      "Epoch 14/30\n",
      "124/124 [==============================] - 0s 1ms/step - loss: 0.9333 - accuracy: 0.6475\n",
      "Epoch 15/30\n",
      "124/124 [==============================] - 0s 1ms/step - loss: 0.8106 - accuracy: 0.6622\n",
      "Epoch 16/30\n",
      "124/124 [==============================] - 0s 1ms/step - loss: 0.9896 - accuracy: 0.6570\n",
      "Epoch 17/30\n",
      "124/124 [==============================] - 0s 1ms/step - loss: 0.9960 - accuracy: 0.6467\n",
      "Epoch 18/30\n",
      "124/124 [==============================] - 0s 1ms/step - loss: 1.0423 - accuracy: 0.6547\n",
      "Epoch 19/30\n",
      "124/124 [==============================] - 0s 1ms/step - loss: 0.7734 - accuracy: 0.6724\n",
      "Epoch 20/30\n",
      "124/124 [==============================] - 0s 1ms/step - loss: 1.2069 - accuracy: 0.6433\n",
      "Epoch 21/30\n",
      "124/124 [==============================] - 0s 1ms/step - loss: 0.7145 - accuracy: 0.6668\n",
      "Epoch 22/30\n",
      "124/124 [==============================] - 0s 1ms/step - loss: 0.7468 - accuracy: 0.6728\n",
      "Epoch 23/30\n",
      "124/124 [==============================] - 0s 1ms/step - loss: 1.0857 - accuracy: 0.6417\n",
      "Epoch 24/30\n",
      "124/124 [==============================] - 0s 1ms/step - loss: 0.7290 - accuracy: 0.6627\n",
      "Epoch 25/30\n",
      "124/124 [==============================] - 0s 1ms/step - loss: 0.9454 - accuracy: 0.6522\n",
      "Epoch 26/30\n",
      "124/124 [==============================] - 0s 1ms/step - loss: 0.9453 - accuracy: 0.6548\n",
      "Epoch 27/30\n",
      "124/124 [==============================] - 0s 1ms/step - loss: 0.9507 - accuracy: 0.6471\n",
      "Epoch 28/30\n",
      "124/124 [==============================] - 0s 1ms/step - loss: 0.7377 - accuracy: 0.6623\n",
      "Epoch 29/30\n",
      "124/124 [==============================] - 0s 1ms/step - loss: 0.6965 - accuracy: 0.6691\n",
      "Epoch 30/30\n",
      "124/124 [==============================] - 0s 1ms/step - loss: 0.9528 - accuracy: 0.6449\n"
     ]
    },
    {
     "data": {
      "text/plain": [
       "<keras.callbacks.History at 0x20819bd3dc0>"
      ]
     },
     "execution_count": 11,
     "metadata": {},
     "output_type": "execute_result"
    }
   ],
   "source": [
    "network.fit(X_train, y_train, epochs = 30, batch_size = 64)"
   ]
  },
  {
   "cell_type": "code",
   "execution_count": 12,
   "metadata": {},
   "outputs": [
    {
     "name": "stdout",
     "output_type": "stream",
     "text": [
      "62/62 [==============================] - 0s 1ms/step - loss: 0.7323 - accuracy: 0.6665\n"
     ]
    },
    {
     "data": {
      "text/plain": [
       "[0.732327938079834, 0.6664980053901672]"
      ]
     },
     "execution_count": 12,
     "metadata": {},
     "output_type": "execute_result"
    }
   ],
   "source": [
    "network.evaluate(X_test, y_test)"
   ]
  },
  {
   "cell_type": "code",
   "execution_count": 14,
   "metadata": {},
   "outputs": [
    {
     "data": {
      "text/plain": [
       "GridSearchCV(cv=10, estimator=DecisionTreeClassifier(random_state=0),\n",
       "             param_grid={'criterion': ('gini', 'entropy'),\n",
       "                         'max_depth': [1, 3, 5, 7, 9, 11, 13, 15, 17, 19],\n",
       "                         'splitter': ('best', 'random')})"
      ]
     },
     "execution_count": 14,
     "metadata": {},
     "output_type": "execute_result"
    }
   ],
   "source": [
    "parameters = {\n",
    "    'splitter': ('best', 'random'),\n",
    "    'criterion':('gini', 'entropy'),\n",
    "    'max_depth':[*range(1, 20, 2)],\n",
    "}\n",
    " \n",
    "# set decision tree model\n",
    "clf = DecisionTreeClassifier(random_state=0)\n",
    "GS = GridSearchCV(clf, parameters, cv=10)\n",
    "GS.fit(X_train, y_train)"
   ]
  },
  {
   "cell_type": "code",
   "execution_count": 15,
   "metadata": {},
   "outputs": [
    {
     "data": {
      "text/plain": [
       "0.7236842105263158"
      ]
     },
     "execution_count": 15,
     "metadata": {},
     "output_type": "execute_result"
    }
   ],
   "source": [
    "# use decision tree model to make prediction\n",
    "predict_results = GS.predict(X_test) \n",
    "scores = GS.score(X_test, y_test)\n",
    "scores"
   ]
  }
 ],
 "metadata": {
  "kernelspec": {
   "display_name": "Python 3.9.12 ('base')",
   "language": "python",
   "name": "python3"
  },
  "language_info": {
   "codemirror_mode": {
    "name": "ipython",
    "version": 3
   },
   "file_extension": ".py",
   "mimetype": "text/x-python",
   "name": "python",
   "nbconvert_exporter": "python",
   "pygments_lexer": "ipython3",
   "version": "3.9.12"
  },
  "orig_nbformat": 4,
  "vscode": {
   "interpreter": {
    "hash": "7da5820a2854ab64e945d1fcdd5bbe8e1d050097427d446e1a184f8b20fb1ef8"
   }
  }
 },
 "nbformat": 4,
 "nbformat_minor": 2
}
